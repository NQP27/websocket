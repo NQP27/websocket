{
 "cells": [
  {
   "cell_type": "code",
   "execution_count": 1,
   "id": "a3569527",
   "metadata": {},
   "outputs": [],
   "source": [
    "import json\n",
    "import random\n",
    "import string\n",
    "import datetime\n",
    "import re\n",
    "import pandas as pd\n",
    "from websocket import create_connection"
   ]
  },
  {
   "cell_type": "code",
   "execution_count": 2,
   "id": "54eecae6",
   "metadata": {},
   "outputs": [],
   "source": [
    "def gen_session(prefix=\"cs\"):\n",
    "    return prefix + \"_\" + \"\".join(random.choices(string.ascii_lowercase, k=12))\n",
    "\n",
    "\n",
    "def prepend_header(msg):\n",
    "    return f\"~m~{len(msg)}~m~{msg}\"\n",
    "\n",
    "\n",
    "def create_message(method, params):\n",
    "    return json.dumps({\"m\": method, \"p\": params}, separators=(\",\", \":\"))\n",
    "\n",
    "\n",
    "def parse_series(raw_data):\n",
    "    try:\n",
    "        out = re.search('\"s\":\\[(.+?)\\}\\]', raw_data).group(1)\n",
    "        x = out.split(',{\"')\n",
    "        data = []\n",
    "        for xi in x:\n",
    "            xi = re.split(\"\\[|:|,|\\]\", xi)\n",
    "            ts = datetime.datetime.fromtimestamp(float(xi[4]))\n",
    "            row = [ts] + [float(xi[i]) for i in range(5, 10)]\n",
    "            data.append(row)\n",
    "        df = pd.DataFrame(data, columns=[\"datetime\", \"open\", \"high\", \"low\", \"close\", \"volume\"])\n",
    "        df.set_index(\"datetime\", inplace=True)\n",
    "        return df\n",
    "    except Exception as e:\n",
    "        print(\"Parse error:\", e)\n",
    "        return pd.DataFrame()  # return empty DF on error"
   ]
  },
  {
   "cell_type": "code",
   "execution_count": 27,
   "id": "475e6b8f",
   "metadata": {},
   "outputs": [
    {
     "name": "stdout",
     "output_type": "stream",
     "text": [
      "Lấy dữ liệu nến EURUSD khung 1...\n"
     ]
    }
   ],
   "source": [
    "\n",
    "filePath = r\"./files/forex_key.json\"\n",
    "with open(filePath, \"r\") as file:\n",
    "        infor = json.load(file)\n",
    "        token = infor[\"tradingview\"][\"sen07\"][\"token\"]\n",
    "symbol = \"EURUSD\"\n",
    "source = \"OANDA\"\n",
    "timeframe = \"1\"  # 1m\n",
    "n_bars = 20000\n",
    "\n",
    "# Replace this with your sessionid cookie from TradingView\n",
    "chart_session = gen_session(\"cs\")\n",
    "quote_session = gen_session(\"qs\")\n",
    "\n",
    "ws = create_connection(\"wss://data.tradingview.com/socket.io/websocket\", timeout=5)\n",
    "\n",
    "def send(method, params):\n",
    "    msg = prepend_header(create_message(method, params))\n",
    "    ws.send(msg)\n",
    "\n",
    "# 1. Auth\n",
    "send(\"set_auth_token\", [token])\n",
    "\n",
    "# 2. Create sessions\n",
    "send(\"chart_create_session\", [chart_session, \"\"])\n",
    "send(\"quote_create_session\", [quote_session])\n",
    "send(\"quote_add_symbols\", [quote_session, f\"{source}:{symbol}\", {\"flags\": [\"force_permission\"]}])\n",
    "\n",
    "# 3. Resolve symbol & request data\n",
    "send(\"resolve_symbol\", [\n",
    "    chart_session, \"symbol_1\",\n",
    "    f'={{\"symbol\":\"{source}:{symbol}\",\"adjustment\":\"splits\",\"session\":\"regular\"}}'\n",
    "])\n",
    "send(\"create_series\", [chart_session, \"s1\", \"s1\", \"symbol_1\", timeframe, n_bars])\n",
    "\n",
    "print(f\"Lấy dữ liệu nến {symbol} khung {timeframe}...\")\n",
    "\n",
    "raw = \"\"\n",
    "while True:\n",
    "    try:\n",
    "        res = ws.recv()\n",
    "        raw += res + \"\\n\"\n",
    "        if \"series_completed\" in res:\n",
    "            break\n",
    "    except Exception as e:\n",
    "        print(\"Lỗi:\", e)\n",
    "        break\n",
    "\n",
    "candles = parse_series(raw)"
   ]
  },
  {
   "cell_type": "code",
   "execution_count": 28,
   "id": "83ac8ced",
   "metadata": {},
   "outputs": [
    {
     "data": {
      "text/plain": [
       "'cs_vmwycfcvleyw'"
      ]
     },
     "execution_count": 28,
     "metadata": {},
     "output_type": "execute_result"
    }
   ],
   "source": [
    "chart_session"
   ]
  },
  {
   "cell_type": "code",
   "execution_count": 29,
   "id": "e0ebeb28",
   "metadata": {},
   "outputs": [
    {
     "data": {
      "text/plain": [
       "'qs_vlglnobxhcdc'"
      ]
     },
     "execution_count": 29,
     "metadata": {},
     "output_type": "execute_result"
    }
   ],
   "source": [
    "quote_session"
   ]
  },
  {
   "cell_type": "code",
   "execution_count": 30,
   "id": "571c8951",
   "metadata": {},
   "outputs": [
    {
     "data": {
      "text/html": [
       "<div>\n",
       "<style scoped>\n",
       "    .dataframe tbody tr th:only-of-type {\n",
       "        vertical-align: middle;\n",
       "    }\n",
       "\n",
       "    .dataframe tbody tr th {\n",
       "        vertical-align: top;\n",
       "    }\n",
       "\n",
       "    .dataframe thead th {\n",
       "        text-align: right;\n",
       "    }\n",
       "</style>\n",
       "<table border=\"1\" class=\"dataframe\">\n",
       "  <thead>\n",
       "    <tr style=\"text-align: right;\">\n",
       "      <th></th>\n",
       "      <th>open</th>\n",
       "      <th>high</th>\n",
       "      <th>low</th>\n",
       "      <th>close</th>\n",
       "      <th>volume</th>\n",
       "    </tr>\n",
       "    <tr>\n",
       "      <th>datetime</th>\n",
       "      <th></th>\n",
       "      <th></th>\n",
       "      <th></th>\n",
       "      <th></th>\n",
       "      <th></th>\n",
       "    </tr>\n",
       "  </thead>\n",
       "  <tbody>\n",
       "    <tr>\n",
       "      <th>2025-05-05 04:04:00</th>\n",
       "      <td>1.13062</td>\n",
       "      <td>1.13062</td>\n",
       "      <td>1.13062</td>\n",
       "      <td>1.13062</td>\n",
       "      <td>1.0</td>\n",
       "    </tr>\n",
       "    <tr>\n",
       "      <th>2025-05-05 04:05:00</th>\n",
       "      <td>1.13058</td>\n",
       "      <td>1.13058</td>\n",
       "      <td>1.13051</td>\n",
       "      <td>1.13051</td>\n",
       "      <td>2.0</td>\n",
       "    </tr>\n",
       "    <tr>\n",
       "      <th>2025-05-05 04:06:00</th>\n",
       "      <td>1.13059</td>\n",
       "      <td>1.13059</td>\n",
       "      <td>1.13038</td>\n",
       "      <td>1.13056</td>\n",
       "      <td>4.0</td>\n",
       "    </tr>\n",
       "    <tr>\n",
       "      <th>2025-05-05 04:07:00</th>\n",
       "      <td>1.13044</td>\n",
       "      <td>1.13057</td>\n",
       "      <td>1.13044</td>\n",
       "      <td>1.13057</td>\n",
       "      <td>2.0</td>\n",
       "    </tr>\n",
       "    <tr>\n",
       "      <th>2025-05-05 04:08:00</th>\n",
       "      <td>1.13044</td>\n",
       "      <td>1.13058</td>\n",
       "      <td>1.13044</td>\n",
       "      <td>1.13058</td>\n",
       "      <td>2.0</td>\n",
       "    </tr>\n",
       "    <tr>\n",
       "      <th>...</th>\n",
       "      <td>...</td>\n",
       "      <td>...</td>\n",
       "      <td>...</td>\n",
       "      <td>...</td>\n",
       "      <td>...</td>\n",
       "    </tr>\n",
       "    <tr>\n",
       "      <th>2025-05-10 03:55:00</th>\n",
       "      <td>1.12480</td>\n",
       "      <td>1.12490</td>\n",
       "      <td>1.12475</td>\n",
       "      <td>1.12489</td>\n",
       "      <td>57.0</td>\n",
       "    </tr>\n",
       "    <tr>\n",
       "      <th>2025-05-10 03:56:00</th>\n",
       "      <td>1.12488</td>\n",
       "      <td>1.12500</td>\n",
       "      <td>1.12481</td>\n",
       "      <td>1.12498</td>\n",
       "      <td>128.0</td>\n",
       "    </tr>\n",
       "    <tr>\n",
       "      <th>2025-05-10 03:57:00</th>\n",
       "      <td>1.12495</td>\n",
       "      <td>1.12506</td>\n",
       "      <td>1.12472</td>\n",
       "      <td>1.12483</td>\n",
       "      <td>439.0</td>\n",
       "    </tr>\n",
       "    <tr>\n",
       "      <th>2025-05-10 03:58:00</th>\n",
       "      <td>1.12484</td>\n",
       "      <td>1.12508</td>\n",
       "      <td>1.12474</td>\n",
       "      <td>1.12474</td>\n",
       "      <td>133.0</td>\n",
       "    </tr>\n",
       "    <tr>\n",
       "      <th>2025-05-10 03:59:00</th>\n",
       "      <td>1.12474</td>\n",
       "      <td>1.12486</td>\n",
       "      <td>1.12474</td>\n",
       "      <td>1.12486</td>\n",
       "      <td>3.0</td>\n",
       "    </tr>\n",
       "  </tbody>\n",
       "</table>\n",
       "<p>7144 rows × 5 columns</p>\n",
       "</div>"
      ],
      "text/plain": [
       "                        open     high      low    close  volume\n",
       "datetime                                                       \n",
       "2025-05-05 04:04:00  1.13062  1.13062  1.13062  1.13062     1.0\n",
       "2025-05-05 04:05:00  1.13058  1.13058  1.13051  1.13051     2.0\n",
       "2025-05-05 04:06:00  1.13059  1.13059  1.13038  1.13056     4.0\n",
       "2025-05-05 04:07:00  1.13044  1.13057  1.13044  1.13057     2.0\n",
       "2025-05-05 04:08:00  1.13044  1.13058  1.13044  1.13058     2.0\n",
       "...                      ...      ...      ...      ...     ...\n",
       "2025-05-10 03:55:00  1.12480  1.12490  1.12475  1.12489    57.0\n",
       "2025-05-10 03:56:00  1.12488  1.12500  1.12481  1.12498   128.0\n",
       "2025-05-10 03:57:00  1.12495  1.12506  1.12472  1.12483   439.0\n",
       "2025-05-10 03:58:00  1.12484  1.12508  1.12474  1.12474   133.0\n",
       "2025-05-10 03:59:00  1.12474  1.12486  1.12474  1.12486     3.0\n",
       "\n",
       "[7144 rows x 5 columns]"
      ]
     },
     "execution_count": 30,
     "metadata": {},
     "output_type": "execute_result"
    }
   ],
   "source": [
    "candles"
   ]
  }
 ],
 "metadata": {
  "kernelspec": {
   "display_name": "Python 3",
   "language": "python",
   "name": "python3"
  },
  "language_info": {
   "codemirror_mode": {
    "name": "ipython",
    "version": 3
   },
   "file_extension": ".py",
   "mimetype": "text/x-python",
   "name": "python",
   "nbconvert_exporter": "python",
   "pygments_lexer": "ipython3",
   "version": "3.10.10"
  }
 },
 "nbformat": 4,
 "nbformat_minor": 5
}
